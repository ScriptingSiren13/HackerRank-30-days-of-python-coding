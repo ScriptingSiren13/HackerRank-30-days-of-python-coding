{
 "cells": [
  {
   "cell_type": "code",
   "execution_count": null,
   "id": "c6e49d97-ef68-444b-a475-5412e2475af2",
   "metadata": {},
   "outputs": [],
   "source": [
    "# Complete the code in the editor below. The variables , , and  are already declared and initialized for you. You must:\n",
    "\n",
    "# Declare  variables: one of type int, one of type double, and one of type String.\n",
    "# Read  lines of input from stdin (according to the sequence given in the Input Format section below) and initialize your  variables.\n",
    "# Use the  operator to perform the following operations:\n",
    "# Print the sum of  plus your int variable on a new line.\n",
    "# Print the sum of  plus your double variable to a scale of one decimal place on a new line.\n",
    "# Concatenate  with the string you read as input and print the result on a new line."
   ]
  },
  {
   "cell_type": "code",
   "execution_count": 2,
   "id": "cf91eb3e-fc84-49ec-b833-c202c8719374",
   "metadata": {},
   "outputs": [
    {
     "name": "stdout",
     "output_type": "stream",
     "text": [
      "16\n",
      "8.0\n",
      "HackerRank is the best place to learn and practice coding!\n"
     ]
    }
   ],
   "source": [
    "i = 4\n",
    "d = 4.0\n",
    "s = 'HackerRank '\n",
    "\n",
    "j=12\n",
    "h=4.0\n",
    "k= 'is the best place to learn and practice coding!'\n",
    "\n",
    "print(i+j)\n",
    "print(d+h)\n",
    "print(s + k)\n"
   ]
  },
  {
   "cell_type": "code",
   "execution_count": null,
   "id": "6caf5396-0c73-4e78-b9c3-967b62283386",
   "metadata": {},
   "outputs": [],
   "source": []
  }
 ],
 "metadata": {
  "kernelspec": {
   "display_name": "Python 3 (ipykernel)",
   "language": "python",
   "name": "python3"
  },
  "language_info": {
   "codemirror_mode": {
    "name": "ipython",
    "version": 3
   },
   "file_extension": ".py",
   "mimetype": "text/x-python",
   "name": "python",
   "nbconvert_exporter": "python",
   "pygments_lexer": "ipython3",
   "version": "3.12.4"
  }
 },
 "nbformat": 4,
 "nbformat_minor": 5
}
