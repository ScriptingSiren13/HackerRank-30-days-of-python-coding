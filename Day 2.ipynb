{
 "cells": [
  {
   "cell_type": "code",
   "execution_count": null,
   "id": "c6e49d97-ef68-444b-a475-5412e2475af2",
   "metadata": {},
   "outputs": [],
   "source": [
    "# Complete the code in the editor below. The variables , , and  are already declared and initialized for you. You must:\n",
    "\n",
    "# Declare  variables: one of type int, one of type double, and one of type String.\n",
    "# Read  lines of input from stdin (according to the sequence given in the Input Format section below) and initialize your  variables.\n",
    "# Use the  operator to perform the following operations:\n",
    "# Print the sum of  plus your int variable on a new line.\n",
    "# Print the sum of  plus your double variable to a scale of one decimal place on a new line.\n",
    "# Concatenate  with the string you read as input and print the result on a new line."
   ]
  },
  {
   "cell_type": "code",
   "execution_count": 3,
   "id": "6caf5396-0c73-4e78-b9c3-967b62283386",
   "metadata": {},
   "outputs": [
    {
     "name": "stdin",
     "output_type": "stream",
     "text": [
      " 4\n",
      " 5.0\n",
      " is the best\n"
     ]
    },
    {
     "name": "stdout",
     "output_type": "stream",
     "text": [
      "8\n",
      "9.0\n",
      "HackerRank is the best\n"
     ]
    }
   ],
   "source": [
    "i = 4\n",
    "d = 4.0\n",
    "s = 'HackerRank '\n",
    " \n",
    "j=int(input())\n",
    "h=float(input())\n",
    "k=str(input())\n",
    "\n",
    "print(i+j)\n",
    "print(d+h)\n",
    "print(s + k)"
   ]
  },
  {
   "cell_type": "code",
   "execution_count": null,
   "id": "9c46e34a-0fdc-4a0a-9538-0e4c81ca9130",
   "metadata": {},
   "outputs": [],
   "source": []
  }
 ],
 "metadata": {
  "kernelspec": {
   "display_name": "Python 3 (ipykernel)",
   "language": "python",
   "name": "python3"
  },
  "language_info": {
   "codemirror_mode": {
    "name": "ipython",
    "version": 3
   },
   "file_extension": ".py",
   "mimetype": "text/x-python",
   "name": "python",
   "nbconvert_exporter": "python",
   "pygments_lexer": "ipython3",
   "version": "3.12.4"
  }
 },
 "nbformat": 4,
 "nbformat_minor": 5
}
